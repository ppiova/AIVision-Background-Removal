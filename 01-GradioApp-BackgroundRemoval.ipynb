{
 "cells": [
  {
   "cell_type": "markdown",
   "metadata": {},
   "source": [
    "In visual code create environment\n",
    "Ctrl+Shift+P\n",
    "pip install gradio"
   ]
  },
  {
   "cell_type": "code",
   "execution_count": null,
   "metadata": {},
   "outputs": [],
   "source": [
    "import sys\n",
    "import gradio as gr\n",
    "import io\n",
    "import os\n",
    "import requests\n",
    "from dotenv import load_dotenv\n",
    "from PIL import Image"
   ]
  },
  {
   "cell_type": "code",
   "execution_count": null,
   "metadata": {},
   "outputs": [],
   "source": [
    "load_dotenv(\"azure.env\")\n",
    "\n",
    "azure_cv_key = os.getenv(\"azure_cv_key\")\n",
    "azure_cv_endpoint = os.getenv(\"azure_cv_endpoint\")\n",
    "\n"
   ]
  },
  {
   "cell_type": "code",
   "execution_count": null,
   "metadata": {},
   "outputs": [],
   "source": [
    "def post_request(url: str, image_data: bytes, key: str) -> bytes:\n",
    "    \"\"\"Sends a POST request to Azure and returns the response content.\"\"\"\n",
    "    headers = {\n",
    "        \"Content-type\": \"application/octet-stream\",\n",
    "        \"Ocp-Apim-Subscription-Key\": key,\n",
    "    }\n",
    "    \n",
    "    try:\n",
    "        with requests.Session() as session:\n",
    "            response = session.post(url, data=image_data, headers=headers)\n",
    "        response.raise_for_status()\n",
    "        return response.content\n",
    "    except requests.exceptions.RequestException as e:\n",
    "        raise SystemExit(f\"An error occurred: {e}\")"
   ]
  },
  {
   "cell_type": "code",
   "execution_count": null,
   "metadata": {},
   "outputs": [],
   "source": [
    "def remove_background_from_image(image: Image.Image, endpoint=azure_cv_endpoint, key=azure_cv_key) -> tuple:\n",
    "    \"\"\"Remove background from image using Azure Computer Vision.\"\"\"\n",
    "    \n",
    "    base_url = f\"{endpoint}/computervision/imageanalysis:segment?api-version=2023-02-01-preview&mode=\"\n",
    "    remove_background_url = f\"{base_url}backgroundRemoval\"\n",
    "    get_mask_object_url = f\"{base_url}foregroundMatting\"\n",
    "    \n",
    "    with io.BytesIO() as output:\n",
    "        image.save(output, format=\"JPEG\")\n",
    "        image_data = output.getvalue()\n",
    "        \n",
    "    wo_background_content = post_request(remove_background_url, image_data, key)\n",
    "    mask_content = post_request(get_mask_object_url, image_data, key)\n",
    "    \n",
    "    wo_background_image = Image.open(io.BytesIO(wo_background_content))\n",
    "    mask_image = Image.open(io.BytesIO(mask_content))\n",
    "\n",
    "    return wo_background_image, mask_image"
   ]
  },
  {
   "cell_type": "code",
   "execution_count": null,
   "metadata": {},
   "outputs": [],
   "source": [
    "# Gradio UI\n",
    "logo = \"https://assetspost.blob.core.windows.net/png/Logo-YT-PablitoPiova.fw.png\"\n",
    "header = \"Background removal with Azure Computer Vision\"\n",
    "image = f\"<center> <img src={logo} width=50px></center>\"\n",
    "samples = [\"images/piova-01.jpg\", \"images/piova-02.jpg\", \"images/piova-03.jpg\", \"images/mvp.png\", \"images/MVP-Box.jpg\", \"images/Xamarin.jpg\", \"images/Joystick.jpg\"]\n",
    "\n",
    "inputs = gr.Image(type=\"pil\", label=\"Input Image\")\n",
    "outputs = [gr.Image(label=\"Image without background\", type=\"pil\"), gr.Image(label=\"Mask\", type=\"pil\")]\n",
    "\n",
    "webapp = gr.Interface(\n",
    "    remove_background_from_image,\n",
    "    inputs,\n",
    "    outputs,\n",
    "    title=header,\n",
    "    description=image,\n",
    "    examples=samples,\n",
    "    theme=\"freddyaboulton/dracula_revamped\",\n",
    ")\n",
    "\n",
    "webapp.launch(share=True)"
   ]
  }
 ],
 "metadata": {
  "kernelspec": {
   "display_name": "Python 3",
   "language": "python",
   "name": "python3"
  },
  "language_info": {
   "codemirror_mode": {
    "name": "ipython",
    "version": 3
   },
   "file_extension": ".py",
   "mimetype": "text/x-python",
   "name": "python",
   "nbconvert_exporter": "python",
   "pygments_lexer": "ipython3",
   "version": "3.11.3"
  },
  "orig_nbformat": 4
 },
 "nbformat": 4,
 "nbformat_minor": 2
}
